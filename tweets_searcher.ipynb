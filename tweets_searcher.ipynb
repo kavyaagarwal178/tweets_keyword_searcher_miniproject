{
  "nbformat": 4,
  "nbformat_minor": 0,
  "metadata": {
    "colab": {
      "provenance": [],
      "authorship_tag": "ABX9TyMnABLdG6Azd0A4X1bZUA9G",
      "include_colab_link": true
    },
    "kernelspec": {
      "name": "python3",
      "display_name": "Python 3"
    },
    "language_info": {
      "name": "python"
    }
  },
  "cells": [
    {
      "cell_type": "markdown",
      "metadata": {
        "id": "view-in-github",
        "colab_type": "text"
      },
      "source": [
        "<a href=\"https://colab.research.google.com/github/kavyaagarwal178/tweets_keyword_searcher_miniproject/blob/main/tweets_searcher.ipynb\" target=\"_parent\"><img src=\"https://colab.research.google.com/assets/colab-badge.svg\" alt=\"Open In Colab\"/></a>"
      ]
    },
    {
      "cell_type": "markdown",
      "source": [
        "Install package"
      ],
      "metadata": {
        "id": "pE5pplDOVl1h"
      }
    },
    {
      "cell_type": "code",
      "execution_count": 1,
      "metadata": {
        "colab": {
          "base_uri": "https://localhost:8080/"
        },
        "id": "_75ZmKvrVghd",
        "outputId": "49665ae2-9961-4a4c-8bad-f68fa3f36c29"
      },
      "outputs": [
        {
          "output_type": "stream",
          "name": "stdout",
          "text": [
            "Looking in indexes: https://pypi.org/simple, https://us-python.pkg.dev/colab-wheels/public/simple/\n",
            "Requirement already satisfied: tweepy in /usr/local/lib/python3.10/dist-packages (4.13.0)\n",
            "Requirement already satisfied: oauthlib<4,>=3.2.0 in /usr/local/lib/python3.10/dist-packages (from tweepy) (3.2.2)\n",
            "Requirement already satisfied: requests<3,>=2.27.0 in /usr/local/lib/python3.10/dist-packages (from tweepy) (2.27.1)\n",
            "Requirement already satisfied: requests-oauthlib<2,>=1.2.0 in /usr/local/lib/python3.10/dist-packages (from tweepy) (1.3.1)\n",
            "Requirement already satisfied: urllib3<1.27,>=1.21.1 in /usr/local/lib/python3.10/dist-packages (from requests<3,>=2.27.0->tweepy) (1.26.15)\n",
            "Requirement already satisfied: certifi>=2017.4.17 in /usr/local/lib/python3.10/dist-packages (from requests<3,>=2.27.0->tweepy) (2022.12.7)\n",
            "Requirement already satisfied: charset-normalizer~=2.0.0 in /usr/local/lib/python3.10/dist-packages (from requests<3,>=2.27.0->tweepy) (2.0.12)\n",
            "Requirement already satisfied: idna<4,>=2.5 in /usr/local/lib/python3.10/dist-packages (from requests<3,>=2.27.0->tweepy) (3.4)\n"
          ]
        }
      ],
      "source": [
        "!pip install tweepy"
      ]
    },
    {
      "cell_type": "markdown",
      "source": [
        "add credentials"
      ],
      "metadata": {
        "id": "DbfFyGHRV-mv"
      }
    },
    {
      "cell_type": "code",
      "source": [
        "access_token = \"501682241-ZG1DshytyxUIUY8FXPoH2AXaDG9d5DQlORemfAzU\"\n",
        "access_token_secret = \"mxwCYkDjgWG5qWy8ONtVs3j2lxiYSxyberVVa92jmd27z\"\n",
        "consumer_key = \"we0Drpnvc1FZNazKkiKoFWlGf\"\n",
        "consumer_secret = \"OXRvmJwM6ca9k90XMIMoktSCa5XvjNieqJivcfjbOAlmpO6RhH\""
      ],
      "metadata": {
        "id": "6R017YatV_Ge"
      },
      "execution_count": 2,
      "outputs": []
    },
    {
      "cell_type": "code",
      "source": [
        "import os\n",
        "import tweepy as tw\n",
        "import pandas as pd"
      ],
      "metadata": {
        "id": "RM0RLRvVWJah"
      },
      "execution_count": 3,
      "outputs": []
    },
    {
      "cell_type": "code",
      "source": [
        "auth = tw.OAuthHandler(consumer_key, consumer_secret)\n",
        "auth.set_access_token(access_token, access_token_secret)\n",
        "api = tw.API(auth, wait_on_rate_limit=True)"
      ],
      "metadata": {
        "id": "OjkeodqcWJ-A"
      },
      "execution_count": 4,
      "outputs": []
    },
    {
      "cell_type": "markdown",
      "source": [
        "look for tweets and built a dataframe"
      ],
      "metadata": {
        "id": "G4CQsF7QWGsV"
      }
    },
    {
      "cell_type": "code",
      "source": [
        "# Define the search term and the date_since date as variables\n",
        "search_words = \"#win\"\n",
        "date_since = \"2022-04-16\""
      ],
      "metadata": {
        "id": "6NYOCkd_WXJq"
      },
      "execution_count": 5,
      "outputs": []
    },
    {
      "cell_type": "code",
      "source": [
        "# Collect tweets\n",
        "tweets = tw.Cursor(api.search_tweets,\n",
        "              q=search_words,\n",
        "              lang=\"en\",\n",
        "              since=date_since).items(5)\n",
        "\n",
        "# Iterate and print tweets\n",
        "for tweet in tweets:\n",
        "    print(tweet.text)"
      ],
      "metadata": {
        "colab": {
          "base_uri": "https://localhost:8080/"
        },
        "id": "uipWr3I9WeaF",
        "outputId": "a5756f71-e473-4683-ad5a-afa3312a995b"
      },
      "execution_count": 7,
      "outputs": [
        {
          "output_type": "stream",
          "name": "stderr",
          "text": [
            "WARNING:tweepy.api:Unexpected parameter: since\n"
          ]
        },
        {
          "output_type": "stream",
          "name": "stdout",
          "text": [
            "RT @SaversHB: We're giving you the chance to #WIN a TRESemmé hair bundle!😍\n",
            "To enter simply RT &amp; FOLLOW @SaversHB\n",
            "\n",
            "UK only. Ends 13/06/2023.…\n",
            "RT @HughesDirect: Don't forget to enter our draw to #WIN a @Haden_UK Kettle and Toaster!\n",
            "This is a multi-platform prize draw and can be ent…\n",
            "RT @HughesDirect: Don't forget to enter our draw to #WIN a @Haden_UK Kettle and Toaster!\n",
            "This is a multi-platform prize draw and can be ent…\n",
            "RT @BenMkWrites: Okie dokie! Follow us + RT to enter to #win a copy of the pop culture spectacular that is The #SuperMarioMovie, available…\n",
            "RT @MadCatz: 📢#GiveawayAlert 🔥🔥\n",
            "Diablo IV Ultimate Edition😈and R.A.T. 8+ ADV 🔥\n",
            "Entry:  \n",
            "1️⃣ Like this post \n",
            "2️⃣ Mention 3 friends \n",
            "3️⃣ Tell…\n"
          ]
        }
      ]
    }
  ]
}